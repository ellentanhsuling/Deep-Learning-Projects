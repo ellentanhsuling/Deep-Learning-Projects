{
  "nbformat": 4,
  "nbformat_minor": 0,
  "metadata": {
    "colab": {
      "provenance": [],
      "collapsed_sections": []
    },
    "kernelspec": {
      "name": "python3",
      "display_name": "Python 3"
    },
    "language_info": {
      "name": "python"
    }
  },
  "cells": [
    {
      "cell_type": "code",
      "execution_count": 21,
      "metadata": {
        "colab": {
          "base_uri": "https://localhost:8080/"
        },
        "id": "Gvrm5O0_G844",
        "outputId": "183c9fca-7222-46f2-d418-9e31701b7221"
      },
      "outputs": [
        {
          "output_type": "stream",
          "name": "stdout",
          "text": [
            "Looking in indexes: https://pypi.org/simple, https://us-python.pkg.dev/colab-wheels/public/simple/\n",
            "Requirement already satisfied: glove-python-binary in /usr/local/lib/python3.7/dist-packages (0.2.0)\n",
            "Requirement already satisfied: numpy in /usr/local/lib/python3.7/dist-packages (from glove-python-binary) (1.21.6)\n",
            "Requirement already satisfied: scipy in /usr/local/lib/python3.7/dist-packages (from glove-python-binary) (1.7.3)\n"
          ]
        }
      ],
      "source": [
        "!pip install glove-python-binary"
      ]
    },
    {
      "cell_type": "code",
      "source": [
        "import itertools\n",
        "from gensim.models.word2vec import Text8Corpus\n",
        "from glove import Corpus, Glove"
      ],
      "metadata": {
        "id": "X0o9cl_THPJ0"
      },
      "execution_count": 22,
      "outputs": []
    },
    {
      "cell_type": "code",
      "source": [
        "sentences = list(itertools.islice(Text8Corpus(\"/content/alice.txt\"),None))\n",
        "sentences"
      ],
      "metadata": {
        "id": "7-4lMAFEHkhD"
      },
      "execution_count": null,
      "outputs": []
    },
    {
      "cell_type": "code",
      "source": [
        "corpus = Corpus()\n",
        "corpus.fit(sentences)"
      ],
      "metadata": {
        "id": "W1BLB8mSHyO3"
      },
      "execution_count": 24,
      "outputs": []
    },
    {
      "cell_type": "code",
      "source": [
        "glove = Glove(no_components=100)"
      ],
      "metadata": {
        "id": "ijyEF0ZzIg6x"
      },
      "execution_count": 25,
      "outputs": []
    },
    {
      "cell_type": "code",
      "source": [
        "glove.fit(corpus.matrix,epochs=50,verbose=True,no_threads=4)"
      ],
      "metadata": {
        "id": "NV0yI1AOIuus"
      },
      "execution_count": null,
      "outputs": []
    },
    {
      "cell_type": "code",
      "source": [
        "glove.add_dictionary(corpus.dictionary)"
      ],
      "metadata": {
        "id": "tnLpiqmmI5kc"
      },
      "execution_count": 28,
      "outputs": []
    },
    {
      "cell_type": "code",
      "source": [
        "glove.most_similar(\"man\")"
      ],
      "metadata": {
        "colab": {
          "base_uri": "https://localhost:8080/"
        },
        "id": "bLhzScK2JysI",
        "outputId": "5b41ee22-551c-4f1c-f037-484357ea3347"
      },
      "execution_count": 29,
      "outputs": [
        {
          "output_type": "execute_result",
          "data": {
            "text/plain": [
              "[('it.)', 0.9737335605503794),\n",
              " ('ONE,', 0.9728366122569371),\n",
              " ('tittered', 0.9723435367431643),\n",
              " ('fat;', 0.9722945989911278)]"
            ]
          },
          "metadata": {},
          "execution_count": 29
        }
      ]
    },
    {
      "cell_type": "code",
      "source": [
        "glove.most_similar(\"this\",number=10)"
      ],
      "metadata": {
        "colab": {
          "base_uri": "https://localhost:8080/"
        },
        "id": "EVTTa_-YJ1_R",
        "outputId": "92ac5e46-96d9-43bf-b4e3-161eb3c6bc82"
      },
      "execution_count": 30,
      "outputs": [
        {
          "output_type": "execute_result",
          "data": {
            "text/plain": [
              "[('look', 0.9741869483585335),\n",
              " ('about', 0.9721757142672852),\n",
              " ('more', 0.9706208093794516),\n",
              " ('once', 0.9682796472932068),\n",
              " ('thinking', 0.9676433864919823),\n",
              " ('turned', 0.9651639759049881),\n",
              " ('time', 0.9639591759532556),\n",
              " ('which', 0.9632362119945002),\n",
              " ('getting', 0.9609670110643957)]"
            ]
          },
          "metadata": {},
          "execution_count": 30
        }
      ]
    },
    {
      "cell_type": "code",
      "source": [
        "glove.most_similar(\"Adventures\",number=10)"
      ],
      "metadata": {
        "colab": {
          "base_uri": "https://localhost:8080/"
        },
        "id": "jdTmWdQ4J9Op",
        "outputId": "3e2e56c9-f9c7-4599-ce6d-868a504c975f"
      },
      "execution_count": 32,
      "outputs": [
        {
          "output_type": "execute_result",
          "data": {
            "text/plain": [
              "[('jar', 0.921928400392582),\n",
              " ('them.', 0.915166852008262),\n",
              " ('spite', 0.9062000825594615),\n",
              " ('sobbing', 0.897191207475902),\n",
              " (\"THAT'S\", 0.8966031029041588),\n",
              " ('dispute', 0.8911446778793577),\n",
              " ('finger', 0.8867931923316364),\n",
              " ('slate', 0.8841456906001182),\n",
              " ('authority', 0.8805327072981808)]"
            ]
          },
          "metadata": {},
          "execution_count": 32
        }
      ]
    },
    {
      "cell_type": "code",
      "source": [
        "glove.most_similar(\"Alice\",number=10)"
      ],
      "metadata": {
        "colab": {
          "base_uri": "https://localhost:8080/"
        },
        "id": "u-TgWE-gKMxC",
        "outputId": "5cda9d0d-b2d8-4800-c4de-91f854e241dc"
      },
      "execution_count": 33,
      "outputs": [
        {
          "output_type": "execute_result",
          "data": {
            "text/plain": [
              "[('thought', 0.9692378817990696),\n",
              " ('replied', 0.949794149245105),\n",
              " ('She', 0.9373454078901399),\n",
              " ('very', 0.9355010944244744),\n",
              " ('(she', 0.9238928157868621),\n",
              " ('Alice,', 0.9180156043646542),\n",
              " ('waited', 0.9129318392889237),\n",
              " (\"yet,'\", 0.9128638342804763),\n",
              " ('always', 0.9112450221541222)]"
            ]
          },
          "metadata": {},
          "execution_count": 33
        }
      ]
    },
    {
      "cell_type": "code",
      "source": [],
      "metadata": {
        "id": "KVsfj0_-KSLu"
      },
      "execution_count": null,
      "outputs": []
    }
  ]
}