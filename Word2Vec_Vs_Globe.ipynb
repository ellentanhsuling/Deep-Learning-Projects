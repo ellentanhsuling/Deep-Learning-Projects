{
  "metadata": {
    "kernelspec": {
      "language": "python",
      "display_name": "Python 3",
      "name": "python3"
    },
    "language_info": {
      "pygments_lexer": "ipython3",
      "nbconvert_exporter": "python",
      "version": "3.6.4",
      "file_extension": ".py",
      "codemirror_mode": {
        "name": "ipython",
        "version": 3
      },
      "name": "python",
      "mimetype": "text/x-python"
    },
    "colab": {
      "name": "Word2Vec Vs Globe.ipynb",
      "provenance": [],
      "collapsed_sections": []
    }
  },
  "nbformat_minor": 0,
  "nbformat": 4,
  "cells": [
    {
      "cell_type": "code",
      "source": [
        "import re\n",
        "import nltk\n",
        "import pandas as pd\n",
        "import numpy as np\n",
        "import warnings\n",
        "warnings.filterwarnings('ignore')"
      ],
      "metadata": {
        "_uuid": "d629ff2d2480ee46fbb7e2d37f6b5fab8052498a",
        "_cell_guid": "79c7e3d0-c299-4dcb-8224-4455121ee9b0",
        "trusted": true,
        "id": "T9ox58aox3iX"
      },
      "execution_count": 1,
      "outputs": []
    },
    {
      "cell_type": "code",
      "source": [
        "nltk.download('gutenberg')"
      ],
      "metadata": {
        "colab": {
          "base_uri": "https://localhost:8080/"
        },
        "id": "avyldaE_yAOC",
        "outputId": "62994d14-5a9e-4ee2-a9b3-ba3c649717d4"
      },
      "execution_count": 2,
      "outputs": [
        {
          "output_type": "stream",
          "name": "stderr",
          "text": [
            "[nltk_data] Downloading package gutenberg to /root/nltk_data...\n",
            "[nltk_data]   Unzipping corpora/gutenberg.zip.\n"
          ]
        },
        {
          "output_type": "execute_result",
          "data": {
            "text/plain": [
              "True"
            ]
          },
          "metadata": {},
          "execution_count": 2
        }
      ]
    },
    {
      "cell_type": "code",
      "source": [
        "#let's view the fileids of the gutenberg corpus\n",
        "from nltk.corpus import gutenberg\n",
        "print(gutenberg.fileids())"
      ],
      "metadata": {
        "trusted": true,
        "colab": {
          "base_uri": "https://localhost:8080/"
        },
        "id": "h-H3G1Ocx3iZ",
        "outputId": "6dd3590c-8166-4d1f-ab4e-4ccd5d4d4c1c"
      },
      "execution_count": 3,
      "outputs": [
        {
          "output_type": "stream",
          "name": "stdout",
          "text": [
            "['austen-emma.txt', 'austen-persuasion.txt', 'austen-sense.txt', 'bible-kjv.txt', 'blake-poems.txt', 'bryant-stories.txt', 'burgess-busterbrown.txt', 'carroll-alice.txt', 'chesterton-ball.txt', 'chesterton-brown.txt', 'chesterton-thursday.txt', 'edgeworth-parents.txt', 'melville-moby_dick.txt', 'milton-paradise.txt', 'shakespeare-caesar.txt', 'shakespeare-hamlet.txt', 'shakespeare-macbeth.txt', 'whitman-leaves.txt']\n"
          ]
        }
      ]
    },
    {
      "cell_type": "code",
      "source": [
        "#lets choose the bryant stories\n",
        "bryant_sents = gutenberg.raw(gutenberg.fileids()[5])\n",
        "bryant_sents = bryant_sents.split('\\n')\n",
        "print('the length of the sentences before cleaning and preprocessing is', len(bryant_sents))"
      ],
      "metadata": {
        "trusted": true,
        "colab": {
          "base_uri": "https://localhost:8080/"
        },
        "id": "8TSWaWlNx3iZ",
        "outputId": "e1473950-3d9f-45e9-fd8f-f53085bfd194"
      },
      "execution_count": 4,
      "outputs": [
        {
          "output_type": "stream",
          "name": "stdout",
          "text": [
            "the length of the sentences before cleaning and preprocessing is 5539\n"
          ]
        }
      ]
    },
    {
      "cell_type": "code",
      "source": [
        "#an exmaple line in the sents\n",
        "print(bryant_sents[7])"
      ],
      "metadata": {
        "trusted": true,
        "colab": {
          "base_uri": "https://localhost:8080/"
        },
        "id": "uZcqYVHBx3ia",
        "outputId": "48ddc696-1725-41b1-f1d5-55ec18547ecf"
      },
      "execution_count": 5,
      "outputs": [
        {
          "output_type": "stream",
          "name": "stdout",
          "text": [
            "     Full of little gentlemen;\r\n"
          ]
        }
      ]
    },
    {
      "cell_type": "code",
      "source": [
        "nltk.download('stopwords')"
      ],
      "metadata": {
        "colab": {
          "base_uri": "https://localhost:8080/"
        },
        "id": "dBWh9oLlyHsH",
        "outputId": "38e261ef-8aae-4b34-edc4-a9161dda62f0"
      },
      "execution_count": 6,
      "outputs": [
        {
          "output_type": "stream",
          "name": "stderr",
          "text": [
            "[nltk_data] Downloading package stopwords to /root/nltk_data...\n",
            "[nltk_data]   Unzipping corpora/stopwords.zip.\n"
          ]
        },
        {
          "output_type": "execute_result",
          "data": {
            "text/plain": [
              "True"
            ]
          },
          "metadata": {},
          "execution_count": 6
        }
      ]
    },
    {
      "cell_type": "code",
      "source": [
        "#importing necessary libraires to clean the data\n",
        "from nltk import word_tokenize\n",
        "from nltk.corpus import stopwords\n",
        "from nltk.stem.porter import PorterStemmer\n",
        "stopWords = stopwords.words('english')\n",
        "charfilter = re.compile('[a-zA-Z]+')"
      ],
      "metadata": {
        "trusted": true,
        "id": "uB_AhecLx3ia"
      },
      "execution_count": 7,
      "outputs": []
    },
    {
      "cell_type": "code",
      "source": [
        "#now let's tokenize the words\n",
        "def simple_filter(sent):\n",
        "    #converting all the tokens to lower case:\n",
        "    words = sent.split()\n",
        "    word_lower = [] \n",
        "    for word in words:\n",
        "        word_lower.append(word.lower())\n",
        "    #let's remove every stopword:\n",
        "    word_clean = [word for word in word_lower if word not in stopWords]\n",
        "    #removing all the characters and using only characters\n",
        "    tokens = list(filter(lambda token : charfilter.match(token),word_clean))\n",
        "    #stemming all the words\n",
        "    ntokens = []\n",
        "    for word in tokens:\n",
        "        ntokens.append(PorterStemmer().stem(word))\n",
        "    return tokens"
      ],
      "metadata": {
        "trusted": true,
        "id": "kEx8L-5gx3ib"
      },
      "execution_count": 8,
      "outputs": []
    },
    {
      "cell_type": "code",
      "source": [
        "#converting all the bryant data to tokens using our function simple tokenizer we created earlier\n",
        "sentences = []\n",
        "for sent in bryant_sents:\n",
        "    tokens = simple_filter(sent)\n",
        "    if len(tokens) >0 :\n",
        "        sentences.append(tokens)"
      ],
      "metadata": {
        "trusted": true,
        "id": "IBgDW-eGx3ib"
      },
      "execution_count": 9,
      "outputs": []
    },
    {
      "cell_type": "code",
      "source": [
        "#an example sentence in the data\n",
        "print(sentences[7])"
      ],
      "metadata": {
        "trusted": true,
        "colab": {
          "base_uri": "https://localhost:8080/"
        },
        "id": "mlZslZhwx3ic",
        "outputId": "fca36fc2-59fb-4ef4-aa2b-f339a4375b16"
      },
      "execution_count": 10,
      "outputs": [
        {
          "output_type": "stream",
          "name": "stdout",
          "text": [
            "['messenger', 'small', 'slight,']\n"
          ]
        }
      ]
    },
    {
      "cell_type": "code",
      "source": [
        "#Word2Vec\n",
        "#training the gensim on the data\n",
        "#Using the Cbow architecture for the word2Vec\n",
        "from gensim.models import Word2Vec\n",
        "model_cbow = Word2Vec(sentences, min_count = 1, size = 50, workers = 3, window = 5, sg = 0)"
      ],
      "metadata": {
        "trusted": true,
        "id": "onQrh7Gfx3ic"
      },
      "execution_count": 11,
      "outputs": []
    },
    {
      "cell_type": "code",
      "source": [
        "#Any example to find the vector model of a word\n",
        "print('the array representation of the word \\'gentleman\\'\\n:',model_cbow['gentleman'], '\\n the array representation of the word \\'messenger\\'\\n:', model_cbow['messenger']) "
      ],
      "metadata": {
        "trusted": true,
        "colab": {
          "base_uri": "https://localhost:8080/"
        },
        "id": "a4dm71lox3ic",
        "outputId": "3c62715a-5f9e-4e66-8409-a0d0a7427dea"
      },
      "execution_count": 12,
      "outputs": [
        {
          "output_type": "stream",
          "name": "stdout",
          "text": [
            "the array representation of the word 'gentleman'\n",
            ": [-1.6238875e-03  5.2046544e-05 -1.6655297e-03  5.4726237e-03\n",
            " -3.7136106e-04  7.8298887e-03  8.8874046e-03  3.9056756e-03\n",
            "  2.3949440e-03 -2.3354089e-03  8.2995715e-03 -5.0907698e-03\n",
            "  2.7501998e-03 -7.2486615e-03 -3.2535163e-03 -4.9176766e-04\n",
            "  6.1176401e-03 -4.0196595e-03 -8.0045993e-03 -7.2745928e-03\n",
            "  7.3357988e-03  2.4220531e-03 -6.6526188e-03  6.4516752e-03\n",
            "  4.6080914e-03  9.7617730e-03  9.7249970e-03 -9.0984041e-03\n",
            " -3.1061368e-03 -8.8562965e-03 -9.5619919e-04 -6.9865980e-03\n",
            " -6.2448991e-04 -4.6572080e-03 -1.5983528e-03 -7.6128091e-03\n",
            " -7.1349647e-03  7.4844486e-03 -2.9184259e-05  7.7572688e-03\n",
            "  6.1151981e-03  3.0898745e-03 -5.6976695e-03 -1.8392071e-03\n",
            " -9.9876989e-03  9.8783998e-03  9.1043683e-03 -6.4186361e-03\n",
            "  1.0746912e-03 -2.9253131e-03] \n",
            " the array representation of the word 'messenger'\n",
            ": [-0.00939686  0.00870303 -0.00244509 -0.00375331  0.00025061 -0.00725746\n",
            " -0.00057367 -0.0065589   0.00567129  0.00655579  0.0021534  -0.00705493\n",
            "  0.00741645 -0.0094619  -0.0067326  -0.00621659  0.00097794  0.00369523\n",
            "  0.0095118  -0.0032533  -0.00963608  0.00239624 -0.00852907  0.00676076\n",
            "  0.00586269  0.00613996 -0.00554225  0.00331247 -0.00761215 -0.00031041\n",
            " -0.00524062 -0.00448106 -0.00946944  0.004188    0.01043805 -0.00156347\n",
            "  0.00685803 -0.00175807 -0.00201388 -0.00068276 -0.00712566 -0.00486942\n",
            " -0.00123197  0.00645363  0.00202376  0.00920137  0.00841663  0.00479686\n",
            "  0.00549243  0.00311736]\n"
          ]
        }
      ]
    },
    {
      "cell_type": "code",
      "source": [
        "#Computing the similarities of the words\n",
        "print(model_cbow.similarity('messenger', 'gentleman'))"
      ],
      "metadata": {
        "trusted": true,
        "colab": {
          "base_uri": "https://localhost:8080/"
        },
        "id": "w-bQxIXZx3id",
        "outputId": "fa4eaee8-705e-41e2-8ed5-62d536fa3496"
      },
      "execution_count": 13,
      "outputs": [
        {
          "output_type": "stream",
          "name": "stdout",
          "text": [
            "0.04549653\n"
          ]
        }
      ]
    },
    {
      "cell_type": "code",
      "source": [
        "#Computing the 5 most similar words to the word gentleman\n",
        "print('the 5 most similar words to \\'gentleman\\':', model_cbow.most_similar('gentleman')[:5])"
      ],
      "metadata": {
        "trusted": true,
        "colab": {
          "base_uri": "https://localhost:8080/"
        },
        "id": "_5AXbiJyx3id",
        "outputId": "6fbc14c8-1574-4cf8-9e41-a29656d66143"
      },
      "execution_count": 14,
      "outputs": [
        {
          "output_type": "stream",
          "name": "stdout",
          "text": [
            "the 5 most similar words to 'gentleman': [('minute,', 0.5440585017204285), ('sea;', 0.5238329172134399), ('robber?', 0.5104078650474548), ('brathe', 0.4847576320171356), ('ear.', 0.4814983606338501)]\n"
          ]
        }
      ]
    },
    {
      "cell_type": "code",
      "source": [
        "#let's see how the skipgram model works on the data\n",
        "model_skipgram = Word2Vec(sentences, min_count = 1, size = 50, workers = 3, window = 5, sg = 1)"
      ],
      "metadata": {
        "trusted": true,
        "id": "53DLxrdix3if"
      },
      "execution_count": 15,
      "outputs": []
    },
    {
      "cell_type": "code",
      "source": [
        "#Any example to find the vector model of a word\n",
        "print('the array representation of the word \\'gentleman\\'\\n:',model_skipgram['gentleman'], '\\n the array representation of the word \\'messenger\\'\\n:', model_skipgram['messenger']) "
      ],
      "metadata": {
        "trusted": true,
        "colab": {
          "base_uri": "https://localhost:8080/"
        },
        "id": "Fx3K3e6Rx3if",
        "outputId": "33852240-ce28-416d-cc2e-09d6cd874dc2"
      },
      "execution_count": 16,
      "outputs": [
        {
          "output_type": "stream",
          "name": "stdout",
          "text": [
            "the array representation of the word 'gentleman'\n",
            ": [-0.00085873 -0.00140694 -0.0018727   0.00562109 -0.00057548  0.0087606\n",
            "  0.01137052  0.00344855  0.00234635 -0.00276426  0.0084667  -0.00496227\n",
            "  0.00250011 -0.00811942 -0.00565087  0.00189225  0.00546402 -0.00316642\n",
            " -0.00691166 -0.00694099  0.00651739  0.00117364 -0.0067368   0.00607441\n",
            "  0.00444426  0.01004354  0.00926617 -0.00950051 -0.00512157 -0.00732022\n",
            " -0.00089679 -0.00591263 -0.00055283 -0.00527631  0.00080326 -0.00821549\n",
            " -0.00821198  0.00852285  0.00139628  0.00812304  0.006193    0.00217026\n",
            " -0.00492435 -0.0007501  -0.0125117   0.00998284  0.00948716 -0.00418544\n",
            "  0.00092839 -0.00212597] \n",
            " the array representation of the word 'messenger'\n",
            ": [-0.00138484 -0.00570969 -0.0043577  -0.00236183 -0.00162741  0.00220965\n",
            "  0.02302744 -0.01022819  0.00569328  0.00262888  0.00447234 -0.0060498\n",
            "  0.00667456 -0.01681448 -0.02958052  0.01625853 -0.00464369  0.01078462\n",
            "  0.02002277 -0.00041919 -0.01670301 -0.00887086 -0.00948716  0.00369446\n",
            "  0.00360867  0.00890909 -0.00972086 -0.00044331 -0.02741662  0.01403358\n",
            " -0.00403365  0.00580808 -0.00884688 -0.00099056  0.03303699 -0.00744576\n",
            " -0.00353184  0.00823696  0.01210894  0.00352712 -0.00575821 -0.01439057\n",
            "  0.00772509  0.01628075 -0.02136297  0.01156331  0.01206151  0.02555784\n",
            "  0.0033263   0.01054809]\n"
          ]
        }
      ]
    },
    {
      "cell_type": "code",
      "source": [
        "#Computing the similarities of the words\n",
        "print(model_skipgram.similarity('messenger', 'gentleman'))"
      ],
      "metadata": {
        "trusted": true,
        "colab": {
          "base_uri": "https://localhost:8080/"
        },
        "id": "B2CyYD34x3if",
        "outputId": "f3d614f8-3a8d-4517-c368-3e915cee025a"
      },
      "execution_count": 17,
      "outputs": [
        {
          "output_type": "stream",
          "name": "stdout",
          "text": [
            "0.24993962\n"
          ]
        }
      ]
    },
    {
      "cell_type": "code",
      "source": [
        "#Computing the 5 most similar words to the word gentleman\n",
        "print('the 5 most similar words to \\'gentleman\\':', model_skipgram.most_similar('gentleman')[:5])"
      ],
      "metadata": {
        "trusted": true,
        "colab": {
          "base_uri": "https://localhost:8080/"
        },
        "id": "eAPGvCC8x3ig",
        "outputId": "991fe866-aefd-4312-cf5c-f5af79d7c044"
      },
      "execution_count": 18,
      "outputs": [
        {
          "output_type": "stream",
          "name": "stdout",
          "text": [
            "the 5 most similar words to 'gentleman': [('sea;', 0.5623403191566467), ('minute,', 0.5454872250556946), ('ear.', 0.5267316699028015), ('robber?', 0.5168870091438293), ('brathe', 0.5092170238494873)]\n"
          ]
        }
      ]
    },
    {
      "cell_type": "code",
      "source": [
        "#using the glove package for embeddings\n",
        "!pip install glove-python-binary"
      ],
      "metadata": {
        "trusted": true,
        "colab": {
          "base_uri": "https://localhost:8080/"
        },
        "id": "6Can-ssHx3ig",
        "outputId": "3ff48d17-0315-44c3-e629-0837041b8732"
      },
      "execution_count": 19,
      "outputs": [
        {
          "output_type": "stream",
          "name": "stdout",
          "text": [
            "Looking in indexes: https://pypi.org/simple, https://us-python.pkg.dev/colab-wheels/public/simple/\n",
            "Collecting glove-python-binary\n",
            "  Downloading glove_python_binary-0.2.0-cp37-cp37m-manylinux1_x86_64.whl (948 kB)\n",
            "\u001b[K     |████████████████████████████████| 948 kB 13.9 MB/s \n",
            "\u001b[?25hRequirement already satisfied: scipy in /usr/local/lib/python3.7/dist-packages (from glove-python-binary) (1.4.1)\n",
            "Requirement already satisfied: numpy in /usr/local/lib/python3.7/dist-packages (from glove-python-binary) (1.21.6)\n",
            "Installing collected packages: glove-python-binary\n",
            "Successfully installed glove-python-binary-0.2.0\n"
          ]
        }
      ]
    },
    {
      "cell_type": "code",
      "source": [
        "from glove import Corpus, Glove\n",
        "corpus = Corpus()\n",
        "corpus.fit(sentences, window = 5)\n",
        "glove = Glove(no_components = 50, learning_rate = 0.05)\n",
        "glove.fit(corpus.matrix, epochs = 30, no_threads = 4, verbose = True)\n",
        "glove.add_dictionary(corpus.dictionary)"
      ],
      "metadata": {
        "trusted": true,
        "id": "awMA9fAKx3ih",
        "colab": {
          "base_uri": "https://localhost:8080/"
        },
        "outputId": "90b246bd-c099-4cc7-9e6b-4e2b1ec95060"
      },
      "execution_count": 20,
      "outputs": [
        {
          "output_type": "stream",
          "name": "stdout",
          "text": [
            "Performing 30 training epochs with 4 threads\n",
            "Epoch 0\n",
            "Epoch 1\n",
            "Epoch 2\n",
            "Epoch 3\n",
            "Epoch 4\n",
            "Epoch 5\n",
            "Epoch 6\n",
            "Epoch 7\n",
            "Epoch 8\n",
            "Epoch 9\n",
            "Epoch 10\n",
            "Epoch 11\n",
            "Epoch 12\n",
            "Epoch 13\n",
            "Epoch 14\n",
            "Epoch 15\n",
            "Epoch 16\n",
            "Epoch 17\n",
            "Epoch 18\n",
            "Epoch 19\n",
            "Epoch 20\n",
            "Epoch 21\n",
            "Epoch 22\n",
            "Epoch 23\n",
            "Epoch 24\n",
            "Epoch 25\n",
            "Epoch 26\n",
            "Epoch 27\n",
            "Epoch 28\n",
            "Epoch 29\n"
          ]
        }
      ]
    },
    {
      "cell_type": "code",
      "source": [
        "#Any example to find the vector model of a word\n",
        "print('the array representation of the word \\'gentleman\\'\\n:',glove.word_vectors[glove.dictionary['gentleman']],\n",
        "      '\\n the array representation of the word \\'messenger\\'\\n:', glove.word_vectors[glove.dictionary['messenger']]) "
      ],
      "metadata": {
        "trusted": true,
        "colab": {
          "base_uri": "https://localhost:8080/"
        },
        "id": "NWGNNVrKx3ih",
        "outputId": "ae50d185-0b35-415c-a2c6-e3aa990dc64e"
      },
      "execution_count": 21,
      "outputs": [
        {
          "output_type": "stream",
          "name": "stdout",
          "text": [
            "the array representation of the word 'gentleman'\n",
            ": [-0.00446257 -0.00011563  0.00048778  0.00470994  0.00047404 -0.00650052\n",
            "  0.00275075 -0.00245812  0.00132315  0.00678317  0.00294232 -0.00963198\n",
            " -0.006922    0.00758769  0.00866188  0.00025094  0.00936169  0.00638576\n",
            " -0.00684898  0.00252016  0.00416938  0.00057839  0.00449063  0.00807159\n",
            " -0.00723738  0.00640753  0.00559421  0.00672373 -0.00988107 -0.00463331\n",
            "  0.00418348  0.00308651  0.00110704 -0.00814962 -0.00644658  0.00116924\n",
            "  0.00763553 -0.00058078 -0.00120575  0.00162964  0.00719197  0.00022644\n",
            " -0.00230916  0.00795786 -0.0001765  -0.00510027 -0.00476935  0.005888\n",
            " -0.00727045 -0.00267948] \n",
            " the array representation of the word 'messenger'\n",
            ": [-4.59228478e-04 -2.41253158e-03  3.23837646e-03  6.51687244e-03\n",
            "  6.33845422e-03  2.49419763e-03 -1.27105829e-03 -8.14738685e-03\n",
            " -8.26794884e-04 -3.11872711e-03 -5.97164824e-03 -1.38683848e-03\n",
            " -1.34232465e-04  1.89124214e-03 -7.07742934e-03 -9.59844083e-03\n",
            " -6.32536642e-03  4.26748653e-03  4.60723365e-03  3.00630133e-03\n",
            " -3.53398350e-03 -5.11741987e-03  7.54765144e-03  7.24481109e-03\n",
            "  2.78179819e-04  9.37805984e-03  7.13914777e-03  5.24180335e-05\n",
            " -1.99236190e-03  6.04474725e-03  5.10322275e-03 -8.78724441e-03\n",
            "  5.60910763e-04  8.29733671e-03  8.37474004e-03  5.55490166e-03\n",
            " -2.23443624e-03 -5.79720031e-03 -2.43515189e-04 -9.47497349e-03\n",
            " -2.85370628e-03 -8.73490904e-03 -6.86548383e-03  2.63056444e-03\n",
            "  7.55371697e-03 -3.53454141e-03  8.89912095e-04 -6.36183154e-03\n",
            "  4.79607252e-03  2.27627074e-03]\n"
          ]
        }
      ]
    },
    {
      "cell_type": "code",
      "source": [
        "#Computing the similarities of the words\n",
        "print(glove.most_similar('gentleman', number = 5))"
      ],
      "metadata": {
        "trusted": true,
        "colab": {
          "base_uri": "https://localhost:8080/"
        },
        "id": "w5rBglkKx3ih",
        "outputId": "7e811a3e-f5e9-470e-9575-ec3e83a13e1b"
      },
      "execution_count": 22,
      "outputs": [
        {
          "output_type": "stream",
          "name": "stdout",
          "text": [
            "[('cheese,--and', 0.4584710241006303), ('berries', 0.44931665625607436), ('bear-catchers.', 0.4410907196027992), ('drive', 0.4379447740886234)]\n"
          ]
        }
      ]
    },
    {
      "cell_type": "code",
      "source": [
        ""
      ],
      "metadata": {
        "id": "9ECdrDqFq36C"
      },
      "execution_count": null,
      "outputs": []
    }
  ]
}